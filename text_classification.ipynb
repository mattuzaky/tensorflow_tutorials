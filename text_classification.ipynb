{
 "cells": [
  {
   "cell_type": "markdown",
   "metadata": {},
   "source": [
    "# Text Classification"
   ]
  },
  {
   "cell_type": "code",
   "execution_count": 1,
   "metadata": {},
   "outputs": [
    {
     "name": "stdout",
     "output_type": "stream",
     "text": [
      "TensorFlow version:  1.13.1\n"
     ]
    }
   ],
   "source": [
    "import tensorflow as tf\n",
    "from tensorflow import keras\n",
    "import numpy as np\n",
    "\n",
    "print('TensorFlow version: ', tf.__version__)"
   ]
  },
  {
   "cell_type": "markdown",
   "metadata": {},
   "source": [
    "## IMDB dataset のダウンロード\n",
    "- レビューが整数の配列に変換されたデータセット\n",
    "- 整数が辞書中の特定の単語を表す"
   ]
  },
  {
   "cell_type": "code",
   "execution_count": 2,
   "metadata": {},
   "outputs": [],
   "source": [
    "imdb = keras.datasets.imdb\n",
    "(train_data, train_labels), (test_data, test_labels) = imdb.load_data(num_words=10000)"
   ]
  },
  {
   "cell_type": "markdown",
   "metadata": {},
   "source": [
    "## データを調べる\n",
    "- サンプルそれぞれが映画レビューの中の単語を表す整数の配列\n",
    "- ラベル\n",
    "    - 0 : 否定的なレビュー\n",
    "    - 1 : 肯定的なレビュー"
   ]
  },
  {
   "cell_type": "code",
   "execution_count": 3,
   "metadata": {},
   "outputs": [
    {
     "name": "stdout",
     "output_type": "stream",
     "text": [
      "Training entries: 25000, labels: 25000\n"
     ]
    }
   ],
   "source": [
    "print(\"Training entries: {}, labels: {}\".format(len(train_data), len(train_labels)))"
   ]
  },
  {
   "cell_type": "code",
   "execution_count": 4,
   "metadata": {},
   "outputs": [
    {
     "name": "stdout",
     "output_type": "stream",
     "text": [
      "[1, 14, 22, 16, 43, 530, 973, 1622, 1385, 65, 458, 4468, 66, 3941, 4, 173, 36, 256, 5, 25, 100, 43, 838, 112, 50, 670, 2, 9, 35, 480, 284, 5, 150, 4, 172, 112, 167, 2, 336, 385, 39, 4, 172, 4536, 1111, 17, 546, 38, 13, 447, 4, 192, 50, 16, 6, 147, 2025, 19, 14, 22, 4, 1920, 4613, 469, 4, 22, 71, 87, 12, 16, 43, 530, 38, 76, 15, 13, 1247, 4, 22, 17, 515, 17, 12, 16, 626, 18, 2, 5, 62, 386, 12, 8, 316, 8, 106, 5, 4, 2223, 5244, 16, 480, 66, 3785, 33, 4, 130, 12, 16, 38, 619, 5, 25, 124, 51, 36, 135, 48, 25, 1415, 33, 6, 22, 12, 215, 28, 77, 52, 5, 14, 407, 16, 82, 2, 8, 4, 107, 117, 5952, 15, 256, 4, 2, 7, 3766, 5, 723, 36, 71, 43, 530, 476, 26, 400, 317, 46, 7, 4, 2, 1029, 13, 104, 88, 4, 381, 15, 297, 98, 32, 2071, 56, 26, 141, 6, 194, 7486, 18, 4, 226, 22, 21, 134, 476, 26, 480, 5, 144, 30, 5535, 18, 51, 36, 28, 224, 92, 25, 104, 4, 226, 65, 16, 38, 1334, 88, 12, 16, 283, 5, 16, 4472, 113, 103, 32, 15, 16, 5345, 19, 178, 32]\n"
     ]
    }
   ],
   "source": [
    "print(train_data[0])"
   ]
  },
  {
   "cell_type": "markdown",
   "metadata": {},
   "source": [
    "レビューの長さはそれぞれ異なる\n",
    "- ニューラルネットワークへの入力は同じ長さでなければならない"
   ]
  },
  {
   "cell_type": "code",
   "execution_count": 5,
   "metadata": {},
   "outputs": [
    {
     "data": {
      "text/plain": [
       "(218, 189)"
      ]
     },
     "execution_count": 5,
     "metadata": {},
     "output_type": "execute_result"
    }
   ],
   "source": [
    "len(train_data[0]), len(train_data[1])"
   ]
  },
  {
   "cell_type": "markdown",
   "metadata": {},
   "source": [
    "## 整数を単語に戻す"
   ]
  },
  {
   "cell_type": "code",
   "execution_count": 6,
   "metadata": {},
   "outputs": [],
   "source": [
    "# 単語を整数にマッピングする辞書\n",
    "word_index = imdb.get_word_index()\n",
    "\n",
    "# インデックスの最初の方は予約済み\n",
    "word_index = {k: (v+3) for k, v in word_index.items()}\n",
    "word_index[\"<PAD>\"] = 0\n",
    "word_index[\"<START>\"] = 1\n",
    "word_index[\"<UNK>\"] = 2\n",
    "word_index[\"<UNUSED>\"] = 3\n",
    "\n",
    "reverse_word_index = dict([(value, key) for (key, value) in word_index.items()])"
   ]
  },
  {
   "cell_type": "code",
   "execution_count": 7,
   "metadata": {},
   "outputs": [],
   "source": [
    "def decode_review(text):\n",
    "    return ' '.join([reverse_word_index.get(i, '?') for i in text])"
   ]
  },
  {
   "cell_type": "markdown",
   "metadata": {},
   "source": [
    "```decode_review``` を使うとレビューのテキストを表示できる"
   ]
  },
  {
   "cell_type": "code",
   "execution_count": 8,
   "metadata": {},
   "outputs": [
    {
     "data": {
      "text/plain": [
       "\"<START> this film was just brilliant casting location scenery story direction everyone's really suited the part they played and you could just imagine being there robert <UNK> is an amazing actor and now the same being director <UNK> father came from the same scottish island as myself so i loved the fact there was a real connection with this film the witty remarks throughout the film were great it was just brilliant so much that i bought the film as soon as it was released for <UNK> and would recommend it to everyone to watch and the fly fishing was amazing really cried at the end it was so sad and you know what they say if you cry at a film it must have been good and this definitely was also <UNK> to the two little boy's that played the <UNK> of norman and paul they were just brilliant children are often left out of the <UNK> list i think because the stars that play them all grown up are such a big profile for the whole film but these children are amazing and should be praised for what they have done don't you think the whole story was so lovely because it was true and was someone's life after all that was shared with us all\""
      ]
     },
     "execution_count": 8,
     "metadata": {},
     "output_type": "execute_result"
    }
   ],
   "source": [
    "decode_review(train_data[0])"
   ]
  },
  {
   "cell_type": "markdown",
   "metadata": {},
   "source": [
    "## データの準備\n",
    "レビューはニューラルネットワークに投入する前にテンソルに変換する必要がある\n",
    "- one-hot encoding と同じように単語の出現を表す 0 と 1 のベクトルに変換する\n",
    "- 配列をパディングによって同じ長さに揃え， ```サンプル数 * 長さの最大値``` の形の整数テンソルにする"
   ]
  },
  {
   "cell_type": "code",
   "execution_count": 9,
   "metadata": {},
   "outputs": [],
   "source": [
    "train_data = keras.preprocessing.sequence.pad_sequences(train_data,\n",
    "                                                        value=word_index[\"<PAD>\"],\n",
    "                                                        padding='post',\n",
    "                                                        maxlen=256)\n",
    "test_data = keras.preprocessing.sequence.pad_sequences(test_data,\n",
    "                                                       value=word_index[\"<PAD>\"],\n",
    "                                                       padding='post',\n",
    "                                                       maxlen=256)"
   ]
  },
  {
   "cell_type": "markdown",
   "metadata": {},
   "source": [
    "パディング後のサンプルの長さを見てみる"
   ]
  },
  {
   "cell_type": "code",
   "execution_count": 10,
   "metadata": {},
   "outputs": [
    {
     "name": "stdout",
     "output_type": "stream",
     "text": [
      "sample0: 256, sample1: 256\n"
     ]
    }
   ],
   "source": [
    "print('sample0: %d, sample1: %d' % (len(train_data[0]), len(train_data[1])))"
   ]
  },
  {
   "cell_type": "code",
   "execution_count": 11,
   "metadata": {},
   "outputs": [
    {
     "name": "stdout",
     "output_type": "stream",
     "text": [
      "[   1   14   22   16   43  530  973 1622 1385   65  458 4468   66 3941\n",
      "    4  173   36  256    5   25  100   43  838  112   50  670    2    9\n",
      "   35  480  284    5  150    4  172  112  167    2  336  385   39    4\n",
      "  172 4536 1111   17  546   38   13  447    4  192   50   16    6  147\n",
      " 2025   19   14   22    4 1920 4613  469    4   22   71   87   12   16\n",
      "   43  530   38   76   15   13 1247    4   22   17  515   17   12   16\n",
      "  626   18    2    5   62  386   12    8  316    8  106    5    4 2223\n",
      " 5244   16  480   66 3785   33    4  130   12   16   38  619    5   25\n",
      "  124   51   36  135   48   25 1415   33    6   22   12  215   28   77\n",
      "   52    5   14  407   16   82    2    8    4  107  117 5952   15  256\n",
      "    4    2    7 3766    5  723   36   71   43  530  476   26  400  317\n",
      "   46    7    4    2 1029   13  104   88    4  381   15  297   98   32\n",
      " 2071   56   26  141    6  194 7486   18    4  226   22   21  134  476\n",
      "   26  480    5  144   30 5535   18   51   36   28  224   92   25  104\n",
      "    4  226   65   16   38 1334   88   12   16  283    5   16 4472  113\n",
      "  103   32   15   16 5345   19  178   32    0    0    0    0    0    0\n",
      "    0    0    0    0    0    0    0    0    0    0    0    0    0    0\n",
      "    0    0    0    0    0    0    0    0    0    0    0    0    0    0\n",
      "    0    0    0    0]\n"
     ]
    }
   ],
   "source": [
    "print(train_data[0])"
   ]
  },
  {
   "cell_type": "markdown",
   "metadata": {},
   "source": [
    "## モデルの構築\n",
    "２つの大きな決定が必要\n",
    "1. モデルに幾つの層を設けるか？\n",
    "2. 層ごとに何個の隠れユニットを使用するか？"
   ]
  },
  {
   "cell_type": "code",
   "execution_count": 12,
   "metadata": {},
   "outputs": [
    {
     "name": "stdout",
     "output_type": "stream",
     "text": [
      "WARNING:tensorflow:From /Users/matsuzakihiroki/.pyenv/versions/anaconda3-2019.03/lib/python3.7/site-packages/tensorflow/python/ops/resource_variable_ops.py:435: colocate_with (from tensorflow.python.framework.ops) is deprecated and will be removed in a future version.\n",
      "Instructions for updating:\n",
      "Colocations handled automatically by placer.\n",
      "_________________________________________________________________\n",
      "Layer (type)                 Output Shape              Param #   \n",
      "=================================================================\n",
      "embedding (Embedding)        (None, None, 16)          160000    \n",
      "_________________________________________________________________\n",
      "global_average_pooling1d (Gl (None, 16)                0         \n",
      "_________________________________________________________________\n",
      "dense (Dense)                (None, 16)                272       \n",
      "_________________________________________________________________\n",
      "dense_1 (Dense)              (None, 1)                 17        \n",
      "=================================================================\n",
      "Total params: 160,289\n",
      "Trainable params: 160,289\n",
      "Non-trainable params: 0\n",
      "_________________________________________________________________\n"
     ]
    }
   ],
   "source": [
    "vocab_size = 10000\n",
    "\n",
    "model = keras.Sequential()\n",
    "model.add(keras.layers.Embedding(vocab_size, 16))\n",
    "model.add(keras.layers.GlobalAveragePooling1D())\n",
    "model.add(keras.layers.Dense(16, activation=tf.nn.relu))\n",
    "model.add(keras.layers.Dense(1, activation=tf.nn.sigmoid))\n",
    "\n",
    "model.summary()"
   ]
  },
  {
   "cell_type": "markdown",
   "metadata": {},
   "source": [
    "### 分類器を構成するために一列に積み重ねられる\n",
    "#### 1. 最初の層は ```Embedding``` （埋め込み）層\n",
    "- 整数にエンコードされた語彙を受け取り，インデックスに対応する埋め込みベクトルを検索\n",
    "- 埋め込みベクトルはモデルの訓練の中で学習\n",
    "- 出力行列には次元が１つ追加 ```(batch, sequence, embedding)```\n",
    "\n",
    "#### 2. 次は ```GlobalAveragePooling1D``` 層\n",
    "- それぞれのサンプルについて，シーケンス次元方向に平均値をもとめ，固定長のベクトルを返す\n",
    "\n",
    "#### 3. 固定長の出力ベクトルは，16個の隠れユニットを持つ全結合（```Dense```）層に受け渡し\n",
    "#### 4. 最後の層は1個の出力ノードに全結合"
   ]
  },
  {
   "cell_type": "markdown",
   "metadata": {},
   "source": [
    "### 隠れユニット\n",
    "2つの隠れ層がある\n",
    "- 出力は，その層の内部表現の次元数\n",
    "- ネットワークが学習によって内部表現を獲得する際の自由度\n",
    "\n",
    "### 損失関数とオプティマイザ"
   ]
  },
  {
   "cell_type": "code",
   "execution_count": 13,
   "metadata": {},
   "outputs": [],
   "source": [
    "model.compile(optimizer=tf.keras.optimizers.Adam(),\n",
    "              loss='binary_crossentropy',\n",
    "              metrics=['accuracy'])"
   ]
  },
  {
   "cell_type": "markdown",
   "metadata": {},
   "source": [
    "## 検証用データを作る\n",
    "### 10,000個のサンプルを取り分けて検証用データを作る\n",
    "- 訓練用データだけを使って，モデルの開発とチューニングを行う\n",
    "- テスト用データを1回だけ使い，正解率を検証"
   ]
  },
  {
   "cell_type": "code",
   "execution_count": 14,
   "metadata": {},
   "outputs": [],
   "source": [
    "x_val = train_data[:10000]\n",
    "partial_x_train = train_data[10000:]\n",
    "\n",
    "y_val = train_labels[:10000]\n",
    "partial_y_train = train_labels[10000:]"
   ]
  },
  {
   "cell_type": "markdown",
   "metadata": {},
   "source": [
    "## モデルの訓練\n",
    "512個のサンプルからなるミニバッチを使って，40エポックモデルを訓練"
   ]
  },
  {
   "cell_type": "code",
   "execution_count": 15,
   "metadata": {},
   "outputs": [
    {
     "name": "stdout",
     "output_type": "stream",
     "text": [
      "Train on 15000 samples, validate on 10000 samples\n",
      "WARNING:tensorflow:From /Users/matsuzakihiroki/.pyenv/versions/anaconda3-2019.03/lib/python3.7/site-packages/tensorflow/python/ops/math_ops.py:3066: to_int32 (from tensorflow.python.ops.math_ops) is deprecated and will be removed in a future version.\n",
      "Instructions for updating:\n",
      "Use tf.cast instead.\n",
      "Epoch 1/40\n",
      "15000/15000 [==============================] - 1s 57us/sample - loss: 0.6925 - acc: 0.5122 - val_loss: 0.6911 - val_acc: 0.5697\n",
      "Epoch 2/40\n",
      "15000/15000 [==============================] - 1s 37us/sample - loss: 0.6879 - acc: 0.6525 - val_loss: 0.6845 - val_acc: 0.7167\n",
      "Epoch 3/40\n",
      "15000/15000 [==============================] - 1s 37us/sample - loss: 0.6776 - acc: 0.7381 - val_loss: 0.6714 - val_acc: 0.7508\n",
      "Epoch 4/40\n",
      "15000/15000 [==============================] - 1s 39us/sample - loss: 0.6590 - acc: 0.7495 - val_loss: 0.6495 - val_acc: 0.7579\n",
      "Epoch 5/40\n",
      "15000/15000 [==============================] - 1s 35us/sample - loss: 0.6296 - acc: 0.7846 - val_loss: 0.6176 - val_acc: 0.7794\n",
      "Epoch 6/40\n",
      "15000/15000 [==============================] - 1s 35us/sample - loss: 0.5899 - acc: 0.8048 - val_loss: 0.5783 - val_acc: 0.7946\n",
      "Epoch 7/40\n",
      "15000/15000 [==============================] - 1s 35us/sample - loss: 0.5433 - acc: 0.8200 - val_loss: 0.5336 - val_acc: 0.8134\n",
      "Epoch 8/40\n",
      "15000/15000 [==============================] - 1s 34us/sample - loss: 0.4949 - acc: 0.8399 - val_loss: 0.4911 - val_acc: 0.8270\n",
      "Epoch 9/40\n",
      "15000/15000 [==============================] - 1s 34us/sample - loss: 0.4489 - acc: 0.8557 - val_loss: 0.4519 - val_acc: 0.8399\n",
      "Epoch 10/40\n",
      "15000/15000 [==============================] - 1s 35us/sample - loss: 0.4077 - acc: 0.8695 - val_loss: 0.4192 - val_acc: 0.8484\n",
      "Epoch 11/40\n",
      "15000/15000 [==============================] - 1s 35us/sample - loss: 0.3726 - acc: 0.8769 - val_loss: 0.3916 - val_acc: 0.8575\n",
      "Epoch 12/40\n",
      "15000/15000 [==============================] - 1s 35us/sample - loss: 0.3424 - acc: 0.8867 - val_loss: 0.3703 - val_acc: 0.8604\n",
      "Epoch 13/40\n",
      "15000/15000 [==============================] - 1s 35us/sample - loss: 0.3178 - acc: 0.8937 - val_loss: 0.3518 - val_acc: 0.8668\n",
      "Epoch 14/40\n",
      "15000/15000 [==============================] - 1s 35us/sample - loss: 0.2960 - acc: 0.8989 - val_loss: 0.3385 - val_acc: 0.8708\n",
      "Epoch 15/40\n",
      "15000/15000 [==============================] - 1s 34us/sample - loss: 0.2781 - acc: 0.9039 - val_loss: 0.3275 - val_acc: 0.8733\n",
      "Epoch 16/40\n",
      "15000/15000 [==============================] - 1s 35us/sample - loss: 0.2622 - acc: 0.9096 - val_loss: 0.3187 - val_acc: 0.8745\n",
      "Epoch 17/40\n",
      "15000/15000 [==============================] - 1s 35us/sample - loss: 0.2476 - acc: 0.9147 - val_loss: 0.3113 - val_acc: 0.8768\n",
      "Epoch 18/40\n",
      "15000/15000 [==============================] - 1s 35us/sample - loss: 0.2347 - acc: 0.9190 - val_loss: 0.3051 - val_acc: 0.8801\n",
      "Epoch 19/40\n",
      "15000/15000 [==============================] - 1s 34us/sample - loss: 0.2232 - acc: 0.9219 - val_loss: 0.3000 - val_acc: 0.8809\n",
      "Epoch 20/40\n",
      "15000/15000 [==============================] - 1s 35us/sample - loss: 0.2128 - acc: 0.9258 - val_loss: 0.2965 - val_acc: 0.8822\n",
      "Epoch 21/40\n",
      "15000/15000 [==============================] - 1s 34us/sample - loss: 0.2023 - acc: 0.9306 - val_loss: 0.2936 - val_acc: 0.8824\n",
      "Epoch 22/40\n",
      "15000/15000 [==============================] - 1s 36us/sample - loss: 0.1935 - acc: 0.9334 - val_loss: 0.2908 - val_acc: 0.8836\n",
      "Epoch 23/40\n",
      "15000/15000 [==============================] - 1s 42us/sample - loss: 0.1846 - acc: 0.9385 - val_loss: 0.2899 - val_acc: 0.8829\n",
      "Epoch 24/40\n",
      "15000/15000 [==============================] - 1s 42us/sample - loss: 0.1769 - acc: 0.9425 - val_loss: 0.2886 - val_acc: 0.8855\n",
      "Epoch 25/40\n",
      "15000/15000 [==============================] - 1s 45us/sample - loss: 0.1691 - acc: 0.9459 - val_loss: 0.2869 - val_acc: 0.8846\n",
      "Epoch 26/40\n",
      "15000/15000 [==============================] - 1s 40us/sample - loss: 0.1621 - acc: 0.9482 - val_loss: 0.2877 - val_acc: 0.8835\n",
      "Epoch 27/40\n",
      "15000/15000 [==============================] - 1s 44us/sample - loss: 0.1555 - acc: 0.9507 - val_loss: 0.2871 - val_acc: 0.8847\n",
      "Epoch 28/40\n",
      "15000/15000 [==============================] - 1s 44us/sample - loss: 0.1491 - acc: 0.9540 - val_loss: 0.2880 - val_acc: 0.8856\n",
      "Epoch 29/40\n",
      "15000/15000 [==============================] - 1s 37us/sample - loss: 0.1436 - acc: 0.9565 - val_loss: 0.2894 - val_acc: 0.8838\n",
      "Epoch 30/40\n",
      "15000/15000 [==============================] - 1s 50us/sample - loss: 0.1378 - acc: 0.9578 - val_loss: 0.2890 - val_acc: 0.8857\n",
      "Epoch 31/40\n",
      "15000/15000 [==============================] - 1s 45us/sample - loss: 0.1319 - acc: 0.9606 - val_loss: 0.2901 - val_acc: 0.8859\n",
      "Epoch 32/40\n",
      "15000/15000 [==============================] - 1s 50us/sample - loss: 0.1266 - acc: 0.9639 - val_loss: 0.2917 - val_acc: 0.8863\n",
      "Epoch 33/40\n",
      "15000/15000 [==============================] - 1s 39us/sample - loss: 0.1215 - acc: 0.9650 - val_loss: 0.2941 - val_acc: 0.8853\n",
      "Epoch 34/40\n",
      "15000/15000 [==============================] - 1s 41us/sample - loss: 0.1169 - acc: 0.9667 - val_loss: 0.2965 - val_acc: 0.8853\n",
      "Epoch 35/40\n",
      "15000/15000 [==============================] - 1s 42us/sample - loss: 0.1127 - acc: 0.9675 - val_loss: 0.2989 - val_acc: 0.8855\n",
      "Epoch 36/40\n",
      "15000/15000 [==============================] - 1s 41us/sample - loss: 0.1082 - acc: 0.9697 - val_loss: 0.3008 - val_acc: 0.8847\n",
      "Epoch 37/40\n",
      "15000/15000 [==============================] - 1s 43us/sample - loss: 0.1037 - acc: 0.9709 - val_loss: 0.3037 - val_acc: 0.8836\n",
      "Epoch 38/40\n",
      "15000/15000 [==============================] - 1s 46us/sample - loss: 0.0997 - acc: 0.9724 - val_loss: 0.3075 - val_acc: 0.8830\n",
      "Epoch 39/40\n",
      "15000/15000 [==============================] - 1s 44us/sample - loss: 0.0965 - acc: 0.9737 - val_loss: 0.3113 - val_acc: 0.8823\n",
      "Epoch 40/40\n",
      "15000/15000 [==============================] - 1s 42us/sample - loss: 0.0923 - acc: 0.9758 - val_loss: 0.3143 - val_acc: 0.8824\n"
     ]
    }
   ],
   "source": [
    "history = model.fit(partial_x_train,\n",
    "                    partial_y_train,\n",
    "                    epochs=40,\n",
    "                    batch_size=512,\n",
    "                    validation_data=(x_val, y_val),\n",
    "                    verbose=1)"
   ]
  },
  {
   "cell_type": "markdown",
   "metadata": {},
   "source": [
    "## モデルの評価\n",
    "２つの値\n",
    "- 損失\n",
    "- 正解率"
   ]
  },
  {
   "cell_type": "code",
   "execution_count": 16,
   "metadata": {},
   "outputs": [
    {
     "name": "stdout",
     "output_type": "stream",
     "text": [
      "25000/25000 [==============================] - 1s 36us/sample - loss: 0.3352 - acc: 0.8714\n",
      "[0.3351935883569717, 0.87144]\n"
     ]
    }
   ],
   "source": [
    "results = model.evaluate(test_data, test_labels)\n",
    "print(results)"
   ]
  },
  {
   "cell_type": "markdown",
   "metadata": {},
   "source": [
    "## 正解率と損失の時系列グラフ"
   ]
  },
  {
   "cell_type": "code",
   "execution_count": 17,
   "metadata": {},
   "outputs": [
    {
     "data": {
      "text/plain": [
       "dict_keys(['loss', 'acc', 'val_loss', 'val_acc'])"
      ]
     },
     "execution_count": 17,
     "metadata": {},
     "output_type": "execute_result"
    }
   ],
   "source": [
    "history_dict = history.history\n",
    "history_dict.keys()"
   ]
  },
  {
   "cell_type": "code",
   "execution_count": 18,
   "metadata": {},
   "outputs": [
    {
     "data": {
      "image/png": "[encoded data removed]",
      "text/plain": [
       "<Figure size 432x288 with 1 Axes>"
      ]
     },
     "metadata": {
      "needs_background": "light"
     },
     "output_type": "display_data"
    }
   ],
   "source": [
    "import matplotlib.pyplot as plt\n",
    "%matplotlib inline\n",
    "\n",
    "acc = history.history['acc']\n",
    "val_acc = history.history['val_acc']\n",
    "loss = history.history['loss']\n",
    "val_loss = history.history['val_loss']\n",
    "\n",
    "epochs = range(1, len(acc) + 1)\n",
    "\n",
    "# \"bo\" は青いドット\n",
    "plt.plot(epochs, loss, 'bo', label='Training loss')\n",
    "# ”b\" は青い実線\n",
    "plt.plot(epochs, val_loss, 'b', label='Validation loss')\n",
    "plt.title('Training and validation loss')\n",
    "plt.xlabel('Epochs')\n",
    "plt.ylabel('Loss')\n",
    "plt.legend()\n",
    "\n",
    "plt.show()"
   ]
  },
  {
   "cell_type": "code",
   "execution_count": 19,
   "metadata": {},
   "outputs": [
    {
     "data": {
      "image/png": "[encoded data removed]",
      "text/plain": [
       "<Figure size 432x288 with 1 Axes>"
      ]
     },
     "metadata": {
      "needs_background": "light"
     },
     "output_type": "display_data"
    }
   ],
   "source": [
    "plt.clf()   # 図のクリア\n",
    "acc_values = history_dict['acc']\n",
    "val_acc_values = history_dict['val_acc']\n",
    "\n",
    "plt.plot(epochs, acc, 'bo', label='Training acc')\n",
    "plt.plot(epochs, val_acc, 'b', label='Validation acc')\n",
    "plt.title('Training and validation accuracy')\n",
    "plt.xlabel('Epochs')\n",
    "plt.ylabel('Accuracy')\n",
    "plt.legend()\n",
    "\n",
    "plt.show()"
   ]
  },
  {
   "cell_type": "markdown",
   "metadata": {},
   "source": [
    "### 損失がエポックごとに減少\n",
    "### 正解率がエポックごとに上昇"
   ]
  }
 ],
 "metadata": {
  "kernelspec": {
   "display_name": "Python 3",
   "language": "python",
   "name": "python3"
  },
  "language_info": {
   "codemirror_mode": {
    "name": "ipython",
    "version": 3
   },
   "file_extension": ".py",
   "mimetype": "text/x-python",
   "name": "python",
   "nbconvert_exporter": "python",
   "pygments_lexer": "ipython3",
   "version": "3.7.3"
  }
 },
 "nbformat": 4,
 "nbformat_minor": 2
}
